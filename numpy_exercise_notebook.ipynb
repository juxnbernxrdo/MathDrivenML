{
 "cells": [
  {
   "cell_type": "markdown",
   "metadata": {},
   "source": [
    "# 🎵 Ejercicio Práctico: Sistema de Recomendación Musical con NumPy\n",
    "\n",
    "## 📋 Contexto del Problema\n",
    "\n",
    "Trabajas como Data Scientist en **SoundWave**, una plataforma de streaming musical similar a Spotify. Tu equipo necesita desarrollar un sistema de recomendación básico que analice los patrones de escucha de los usuarios para sugerir nuevas canciones.\n",
    "\n",
    "El sistema debe procesar datos de reproducción musical, calcular similitudes entre usuarios, normalizar las puntuaciones de las canciones, y generar recomendaciones personalizadas usando únicamente **NumPy** (sin bibliotecas de machine learning externas)."
   ]
  },
  {
   "cell_type": "markdown",
   "metadata": {},
   "source": [
    "## 🎯 Objetivos de Aprendizaje\n",
    "\n",
    "Al completar este ejercicio practicarás:\n",
    "\n",
    "- ✅ **Creación y manipulación de arrays multidimensionales**\n",
    "- ✅ **Indexación avanzada y slicing**\n",
    "- ✅ **Operaciones vectorizadas y broadcasting**\n",
    "- ✅ **Funciones de agregación y estadísticas**\n",
    "- ✅ **Álgebra lineal básica (productos matriciales, normas)**\n",
    "- ✅ **Normalización y estandarización de datos**\n",
    "- ✅ **Cálculo de similitudes y distancias**\n",
    "- ✅ **Filtrado y ranking de resultados**"
   ]
  },
  {
   "cell_type": "markdown",
   "metadata": {},
   "source": [
    "## 📊 Datos Iniciales\n",
    "\n",
    "Comienza ejecutando el siguiente código para generar el dataset simulado:"
   ]
  },
  {
   "cell_type": "code",
   "execution_count": null,
   "metadata": {},
   "outputs": [],
   "source": [
    "import numpy as np\n",
    "\n",
    "# Configurar semilla para reproducibilidad\n",
    "np.random.seed(42)\n",
    "\n",
    "# Configuración del dataset\n",
    "n_usuarios = 150\n",
    "n_canciones = 50\n",
    "\n",
    "# Nombres simulados de canciones (géneros musicales)\n",
    "generos = ['Pop', 'Rock', 'Jazz', 'Electronic', 'Hip-Hop', 'Classical', 'Reggae', 'Folk', 'Blues', 'Country']\n",
    "nombres_canciones = [f\"{genre}_{i+1}\" for genre in generos for i in range(5)]\n",
    "\n",
    "# Matriz de reproducciones: usuarios x canciones\n",
    "# Valores: número de veces que cada usuario reprodujo cada canción (0-100)\n",
    "# Aproximadamente 70% de los valores serán 0 (canciones no escuchadas)\n",
    "reproducciones = np.random.poisson(2, size=(n_usuarios, n_canciones))\n",
    "reproducciones = np.where(np.random.random((n_usuarios, n_canciones)) > 0.3, \n",
    "                         reproducciones, 0)\n",
    "\n",
    "# Información adicional de las canciones\n",
    "duraciones = np.random.normal(180, 30, n_canciones)  # Duración en segundos\n",
    "popularidad = np.random.beta(2, 5, n_canciones) * 100  # Popularidad 0-100\n",
    "\n",
    "# Información de usuarios (edad)\n",
    "edades_usuarios = np.random.randint(16, 65, n_usuarios)\n",
    "\n",
    "print(f\"📊 Dataset generado:\")\n",
    "print(f\"   - {n_usuarios} usuarios\")\n",
    "print(f\"   - {n_canciones} canciones\")\n",
    "print(f\"   - Forma de matriz de reproducciones: {reproducciones.shape}\")\n",
    "print(f\"   - Reproducciones totales: {np.sum(reproducciones):,}\")\n",
    "print(f\"   - Sparsity (% de ceros): {(reproducciones == 0).mean()*100:.1f}%\")"
   ]
  },
  {
   "cell_type": "markdown",
   "metadata": {},
   "source": [
    "## 🛠️ Tareas a Resolver\n",
    "\n",
    "### **Tarea 1: Análisis Exploratorio de Datos** 🔍\n",
    "\n",
    "Implementa las siguientes funciones para entender mejor los datos:"
   ]
  },
  {
   "cell_type": "code",
   "execution_count": null,
   "metadata": {},
   "outputs": [],
   "source": [
    "def analizar_dataset(reproducciones, nombres_canciones, edades_usuarios):\n",
    "    \"\"\"\n",
    "    Analiza las características principales del dataset.\n",
    "    \n",
    "    Debes calcular y mostrar:\n",
    "    1. Usuario más activo (más reproducciones totales)\n",
    "    2. Canción más popular (más reproducciones entre todos los usuarios)\n",
    "    3. Estadísticas básicas de reproducciones por usuario\n",
    "    4. Distribución de edades de usuarios activos (que tienen >10 reproducciones totales)\n",
    "    \n",
    "    Returns:\n",
    "        dict con las estadísticas calculadas\n",
    "    \"\"\"\n",
    "    # TU CÓDIGO AQUÍ\n",
    "    pass\n",
    "\n",
    "# Ejecutar análisis\n",
    "estadisticas = analizar_dataset(reproducciones, nombres_canciones, edades_usuarios)"
   ]
  },
  {
   "cell_type": "markdown",
   "metadata": {},
   "source": [
    "**Pistas:**\n",
    "- Usa `np.sum()` con diferentes ejes para agregaciones\n",
    "- `np.argmax()` te ayudará a encontrar índices de valores máximos\n",
    "- Combina indexación booleana para filtrar usuarios activos"
   ]
  },
  {
   "cell_type": "markdown",
   "metadata": {},
   "source": [
    "### **Tarea 2: Normalización y Preprocesamiento** ⚖️"
   ]
  },
  {
   "cell_type": "code",
   "execution_count": null,
   "metadata": {},
   "outputs": [],
   "source": [
    "def normalizar_datos(reproducciones):\n",
    "    \"\"\"\n",
    "    Normaliza la matriz de reproducciones usando tres métodos diferentes.\n",
    "    \n",
    "    1. Normalización Min-Max por usuario (cada fila entre 0-1)\n",
    "    2. Normalización Z-score por canción (cada columna)\n",
    "    3. Normalización L2 por usuario (norma euclidiana = 1)\n",
    "    \n",
    "    Args:\n",
    "        reproducciones: matriz (usuarios, canciones)\n",
    "        \n",
    "    Returns:\n",
    "        tuple con las tres matrices normalizadas\n",
    "    \"\"\"\n",
    "    # TU CÓDIGO AQUÍ\n",
    "    pass\n",
    "\n",
    "# Aplicar normalizaciones\n",
    "repr_minmax, repr_zscore, repr_l2 = normalizar_datos(reproducciones)\n",
    "\n",
    "# Verificar que las normalizaciones son correctas\n",
    "print(\"🔍 Verificaciones:\")\n",
    "print(f\"Min-Max - Rango por usuario: [{np.min(repr_minmax, axis=1).min():.3f}, {np.max(repr_minmax, axis=1).max():.3f}]\")\n",
    "print(f\"Z-score - Media por canción: {np.mean(repr_zscore, axis=0).mean():.6f}\")\n",
    "print(f\"L2 - Norma por usuario (primeros 5): {np.linalg.norm(repr_l2[:5], axis=1)}\")"
   ]
  },
  {
   "cell_type": "markdown",
   "metadata": {},
   "source": [
    "**Conceptos clave:**\n",
    "- Broadcasting para operaciones usuario/canción\n",
    "- `np.linalg.norm()` para normalización L2\n",
    "- Manejo de divisiones por cero"
   ]
  },
  {
   "cell_type": "markdown",
   "metadata": {},
   "source": [
    "### **Tarea 3: Cálculo de Similitudes** 🤝"
   ]
  },
  {
   "cell_type": "code",
   "execution_count": null,
   "metadata": {},
   "outputs": [],
   "source": [
    "def calcular_similitudes(matriz_normalizada):\n",
    "    \"\"\"\n",
    "    Calcula la similitud coseno entre todos los pares de usuarios.\n",
    "    \n",
    "    Similitud coseno = (A · B) / (||A|| * ||B||)\n",
    "    \n",
    "    Args:\n",
    "        matriz_normalizada: matriz (usuarios, canciones) normalizada\n",
    "        \n",
    "    Returns:\n",
    "        matriz de similitudes (usuarios, usuarios)\n",
    "    \"\"\"\n",
    "    # TU CÓDIGO AQUÍ\n",
    "    pass\n",
    "\n",
    "def encontrar_usuarios_similares(similitudes, usuario_id, top_k=5):\n",
    "    \"\"\"\n",
    "    Encuentra los K usuarios más similares a un usuario dado.\n",
    "    \n",
    "    Args:\n",
    "        similitudes: matriz de similitudes\n",
    "        usuario_id: índice del usuario objetivo\n",
    "        top_k: número de usuarios similares a retornar\n",
    "        \n",
    "    Returns:\n",
    "        array con índices de usuarios similares (excluyendo al usuario mismo)\n",
    "    \"\"\"\n",
    "    # TU CÓDIGO AQUÍ\n",
    "    pass\n",
    "\n",
    "# Calcular similitudes\n",
    "similitudes = calcular_similitudes(repr_l2)\n",
    "\n",
    "# Encontrar usuarios similares para el usuario 0\n",
    "usuarios_similares = encontrar_usuarios_similares(similitudes, usuario_id=0, top_k=5)\n",
    "print(f\"👥 Usuarios más similares al usuario 0: {usuarios_similares}\")\n",
    "print(f\"📊 Similitudes: {similitudes[0, usuarios_similares]}\")"
   ]
  },
  {
   "cell_type": "markdown",
   "metadata": {},
   "source": [
    "### **Tarea 4: Sistema de Recomendación** 🎯"
   ]
  },
  {
   "cell_type": "code",
   "execution_count": null,
   "metadata": {},
   "outputs": [],
   "source": [
    "def generar_recomendaciones(reproducciones, similitudes, usuario_id, n_recomendaciones=10):\n",
    "    \"\"\"\n",
    "    Genera recomendaciones de canciones para un usuario específico.\n",
    "    \n",
    "    Algoritmo:\n",
    "    1. Encuentra usuarios similares\n",
    "    2. Para cada canción no escuchada por el usuario objetivo:\n",
    "       - Calcula puntuación ponderada basada en usuarios similares\n",
    "    3. Rankea y retorna las top N canciones\n",
    "    \n",
    "    Args:\n",
    "        reproducciones: matriz original de reproducciones\n",
    "        similitudes: matriz de similitudes entre usuarios\n",
    "        usuario_id: usuario para quien generar recomendaciones\n",
    "        n_recomendaciones: número de canciones a recomendar\n",
    "        \n",
    "    Returns:\n",
    "        array con índices de canciones recomendadas (ordenadas por puntuación)\n",
    "    \"\"\"\n",
    "    # TU CÓDIGO AQUÍ\n",
    "    pass\n",
    "\n",
    "def evaluar_recomendaciones(reproducciones, recomendaciones_indices, usuario_id, \n",
    "                          popularidad, nombres_canciones):\n",
    "    \"\"\"\n",
    "    Evalúa la calidad de las recomendaciones generadas.\n",
    "    \n",
    "    Métricas a calcular:\n",
    "    1. Diversidad de géneros en las recomendaciones\n",
    "    2. Popularidad promedio de las canciones recomendadas\n",
    "    3. Coverage: % del catálogo que incluyen las recomendaciones\n",
    "    \n",
    "    Args:\n",
    "        reproducciones: matriz original\n",
    "        recomendaciones_indices: índices de canciones recomendadas\n",
    "        usuario_id: usuario objetivo\n",
    "        popularidad: array con popularidad de cada canción\n",
    "        nombres_canciones: lista con nombres de canciones\n",
    "    \"\"\"\n",
    "    # TU CÓDIGO AQUÍ\n",
    "    pass\n",
    "\n",
    "# Generar recomendaciones para el usuario 0\n",
    "recomendaciones = generar_recomendaciones(reproducciones, similitudes, usuario_id=0)\n",
    "\n",
    "print(f\"🎵 Top 10 recomendaciones para Usuario 0:\")\n",
    "for i, cancion_idx in enumerate(recomendaciones[:10]):\n",
    "    print(f\"   {i+1}. {nombres_canciones[cancion_idx]} (Popularidad: {popularidad[cancion_idx]:.1f})\")\n",
    "\n",
    "# Evaluar calidad\n",
    "evaluar_recomendaciones(reproducciones, recomendaciones, 0, popularidad, nombres_canciones)"
   ]
  },
  {
   "cell_type": "markdown",
   "metadata": {},
   "source": [
    "### **Tarea 5: Análisis Demográfico** 👥"
   ]
  },
  {
   "cell_type": "code",
   "execution_count": null,
   "metadata": {},
   "outputs": [],
   "source": [
    "def analizar_preferencias_por_edad(reproducciones, edades_usuarios, nombres_canciones):\n",
    "    \"\"\"\n",
    "    Analiza las preferencias musicales por grupos de edad.\n",
    "    \n",
    "    1. Divide usuarios en 3 grupos de edad: Jóvenes (16-25), Adultos (26-45), Mayores (46+)\n",
    "    2. Calcula el promedio de reproducciones por canción para cada grupo\n",
    "    3. Identifica las canciones favoritas de cada grupo etario\n",
    "    4. Encuentra canciones que son populares en todos los grupos\n",
    "    \n",
    "    Returns:\n",
    "        dict con análisis por grupo etario\n",
    "    \"\"\"\n",
    "    # TU CÓDIGO AQUÍ\n",
    "    pass\n",
    "\n",
    "# Ejecutar análisis demográfico\n",
    "analisis_edades = analizar_preferencias_por_edad(reproducciones, edades_usuarios, nombres_canciones)"
   ]
  },
  {
   "cell_type": "markdown",
   "metadata": {},
   "source": [
    "## 🚀 Desafíos Extra (Nivel Avanzado)\n",
    "\n",
    "Una vez completadas las tareas básicas, intenta resolver estos desafíos más complejos:\n",
    "\n",
    "### **Desafío 1: Matriz de Factorización (Simplified NMF)** 🧮"
   ]
  },
  {
   "cell_type": "code",
   "execution_count": null,
   "metadata": {},
   "outputs": [],
   "source": [
    "def factorizacion_matriz_simplificada(reproducciones, n_factores=10, n_iteraciones=100):\n",
    "    \"\"\"\n",
    "    Implementa una versión simplificada de Non-Negative Matrix Factorization.\n",
    "    \n",
    "    Objetivo: Descomponer la matriz de reproducciones R ≈ U × V\n",
    "    donde U es (usuarios × factores) y V es (factores × canciones)\n",
    "    \n",
    "    Esto permite:\n",
    "    - Reducir dimensionalidad\n",
    "    - Capturar patrones latentes\n",
    "    - Generar mejores recomendaciones\n",
    "    \n",
    "    Algoritmo básico usando gradient descent\n",
    "    \"\"\"\n",
    "    # DESAFÍO: Implementa el algoritmo de factorización\n",
    "    pass"
   ]
  },
  {
   "cell_type": "markdown",
   "metadata": {},
   "source": [
    "### **Desafío 2: Cold Start Problem** ❄️"
   ]
  },
  {
   "cell_type": "code",
   "execution_count": null,
   "metadata": {},
   "outputs": [],
   "source": [
    "def recomendar_usuario_nuevo(reproducciones_historicas, perfil_nuevo_usuario, \n",
    "                            nombres_canciones, popularidad):\n",
    "    \"\"\"\n",
    "    Maneja el problema de cold start: recomendar a usuarios completamente nuevos.\n",
    "    \n",
    "    Estrategias a implementar:\n",
    "    1. Recomendaciones basadas en popularidad\n",
    "    2. Recomendaciones basadas en géneros preferidos (inferir del perfil)\n",
    "    3. Híbrido: combinar ambas estrategias\n",
    "    \n",
    "    Args:\n",
    "        perfil_nuevo_usuario: array con pocas reproducciones del usuario nuevo\n",
    "    \"\"\"\n",
    "    # DESAFÍO: Implementa estrategias para usuarios nuevos\n",
    "    pass"
   ]
  },
  {
   "cell_type": "markdown",
   "metadata": {},
   "source": [
    "### **Desafío 3: Optimización de Rendimiento** ⚡"
   ]
  },
  {
   "cell_type": "code",
   "execution_count": null,
   "metadata": {},
   "outputs": [],
   "source": [
    "def optimizar_similitudes_sparse(reproducciones, threshold=0.1):\n",
    "    \"\"\"\n",
    "    Optimiza el cálculo de similitudes para matrices sparse.\n",
    "    \n",
    "    Desafíos:\n",
    "    1. Evita calcular similitudes para usuarios sin canciones en común\n",
    "    2. Usa operaciones vectorizadas eficientes\n",
    "    3. Implementa early stopping para similitudes muy bajas\n",
    "    4. Compara tiempo de ejecución vs. método original\n",
    "    \"\"\"\n",
    "    # DESAFÍO: Implementa versión optimizada\n",
    "    pass\n",
    "\n",
    "def benchmark_algoritmos(reproducciones, n_iteraciones=5):\n",
    "    \"\"\"\n",
    "    Compara el rendimiento de diferentes implementaciones.\n",
    "    \"\"\"\n",
    "    # DESAFÍO: Benchmarka diferentes enfoques\n",
    "    pass"
   ]
  },
  {
   "cell_type": "markdown",
   "metadata": {},
   "source": [
    "### **Desafío 4: Métricas de Evaluación Avanzadas** 📊"
   ]
  },
  {
   "cell_type": "code",
   "execution_count": null,
   "metadata": {},
   "outputs": [],
   "source": [
    "def calcular_metricas_recomendacion(reproducciones_test, recomendaciones, usuario_id):\n",
    "    \"\"\"\n",
    "    Calcula métricas avanzadas de sistemas de recomendación:\n",
    "    \n",
    "    1. Precision@K: % de canciones recomendadas que son relevantes\n",
    "    2. Recall@K: % de canciones relevantes que fueron recomendadas  \n",
    "    3. NDCG (Normalized Discounted Cumulative Gain)\n",
    "    4. Serendipity: qué tan \"sorprendentes\" son las recomendaciones\n",
    "    \n",
    "    Requiere dividir datos en train/test\n",
    "    \"\"\"\n",
    "    # DESAFÍO: Implementa métricas de evaluación rigurosas\n",
    "    pass"
   ]
  },
  {
   "cell_type": "markdown",
   "metadata": {},
   "source": [
    "## ✅ Criterios de Evaluación\n",
    "\n",
    "Tu solución será evaluada en base a:\n",
    "\n",
    "1. **Correctitud funcional** (40%): Los algoritmos producen resultados correctos\n",
    "2. **Eficiencia de NumPy** (25%): Uso apropiado de vectorización y broadcasting\n",
    "3. **Calidad del código** (20%): Código limpio, bien comentado y estructurado  \n",
    "4. **Análisis de resultados** (15%): Interpretación correcta de los outputs\n",
    "\n",
    "### **Puntos Bonus:**\n",
    "- Implementar todos los desafíos extra (+20%)\n",
    "- Visualizaciones creativas de los resultados (+10%)\n",
    "- Optimizaciones de rendimiento no triviales (+10%)"
   ]
  },
  {
   "cell_type": "markdown",
   "metadata": {},
   "source": [
    "## 🎯 Entregables\n",
    "\n",
    "1. **Notebook de Jupyter** con todas las funciones implementadas\n",
    "2. **Análisis de resultados** con interpretaciones de los outputs\n",
    "3. **Documentación** de decisiones de diseño tomadas\n",
    "4. **(Opcional)** Implementación de desafíos extra"
   ]
  },
  {
   "cell_type": "markdown",
   "metadata": {},
   "source": [
    "---\n",
    "\n",
    "**¡Buena suerte construyendo tu sistema de recomendación musical! 🎵**\n",
    "\n",
    "*Recuerda: El objetivo es practicar NumPy, no crear el algoritmo más sofisticado. Enfócate en usar las capacidades de NumPy de manera efectiva y elegante.*"
   ]
  }
 ],
 "metadata": {
  "kernelspec": {
   "display_name": "Python 3",
   "language": "python",
   "name": "python3"
  },
  "language_info": {
   "codemirror_mode": {
    "name": "ipython",
    "version": 3
   },
   "file_extension": ".py",
   "mimetype": "text/x-python",
   "name": "python",
   "nbconvert_exporter": "python",
   "pygments_lexer": "ipython3",
   "version": "3.8.5"
  }
 },
 "nbformat": 4,
 "nbformat_minor": 4
}