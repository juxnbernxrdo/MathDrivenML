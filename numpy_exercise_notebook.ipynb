{
 "cells": [
  {
   "cell_type": "markdown",
   "metadata": {},
   "source": [
    "# 🌱 Análisis de Datos de Sensores IoT para Agricultura Inteligente\n",
    "\n",
    "## 📋 Contexto del Problema\n",
    "\n",
    "Una empresa de tecnología agrícola ha implementado una red de sensores IoT en diferentes parcelas de cultivo. Estos sensores recopilan datos cada hora sobre:\n",
    "- **Temperatura** del suelo (°C)\n",
    "- **Humedad** del suelo (%)\n",
    "- **pH** del suelo\n",
    "- **Luz solar** (lux)\n",
    "\n",
    "Como **ingeniero de datos**, tu misión es procesar y analizar esta información para optimizar el rendimiento de los cultivos y detectar condiciones anómalas que requieran intervención.\n",
    "\n",
    "## 🎯 Objetivos de Aprendizaje\n",
    "\n",
    "Al completar este ejercicio, practicarás los siguientes conceptos de **NumPy**:\n",
    "\n",
    "- ✅ **Creación y manipulación de arrays multidimensionales**\n",
    "- ✅ **Indexación y slicing avanzado**\n",
    "- ✅ **Operaciones vectorizadas y broadcasting**\n",
    "- ✅ **Funciones de agregación estadística**\n",
    "- ✅ **Operaciones de álgebra lineal básica**\n",
    "- ✅ **Manejo de valores faltantes (NaN)**\n",
    "- ✅ **Filtrado y selección condicional de datos**\n",
    "\n",
    "---"
   ]
  },
  {
   "cell_type": "markdown",
   "metadata": {},
   "source": [
    "## 📦 Paso 1: Importar NumPy y Configuración Inicial\n",
    "\n",
    "Comienza importando la librería NumPy y configurando la semilla aleatoria para reproducibilidad."
   ]
  },
  {
   "cell_type": "code",
   "execution_count": null,
   "metadata": {},
   "outputs": [],
   "source": [
    "# TODO: Importa NumPy con el alias 'np'\n",
    "# TODO: Configura la semilla aleatoria en 42 para reproducibilidad\n",
    "\n",
    "# Tu código aquí:\n"
   ]
  },
  {
   "cell_type": "markdown",
   "metadata": {},
   "source": [
    "## 🏗️ Paso 2: Simulación de Datos de Sensores\n",
    "\n",
    "Vamos a simular datos de **5 parcelas** durante **24 horas** (1 lectura por hora) con **4 tipos de sensores**.\n",
    "\n",
    "### Estructura de los datos:\n",
    "- **Dimensiones**: (5 parcelas, 24 horas, 4 sensores)\n",
    "- **Sensores**: [Temperatura, Humedad, pH, Luz]\n",
    "- **Rangos típicos**:\n",
    "  - Temperatura: 15-30°C\n",
    "  - Humedad: 30-80%\n",
    "  - pH: 6.0-8.0\n",
    "  - Luz: 0-50000 lux"
   ]
  },
  {
   "cell_type": "code",
   "execution_count": null,
   "metadata": {},
   "outputs": [],
   "source": [
    "# TODO: Crea un array 3D con forma (5, 24, 4) con valores aleatorios\n",
    "# Usa np.random.random() y escala los valores a los rangos apropiados\n",
    "\n",
    "# Paso 2a: Crear array base con valores entre 0 y 1\n",
    "datos_sensores = # Tu código aquí\n",
    "\n",
    "print(f\"Forma del array: {datos_sensores.shape}\")\n",
    "print(f\"Tipo de dato: {datos_sensores.dtype}\")"
   ]
  },
  {
   "cell_type": "code",
   "execution_count": null,
   "metadata": {},
   "outputs": [],
   "source": [
    "# Paso 2b: Escalar los valores a rangos realistas para cada sensor\n",
    "# TODO: Usar broadcasting para escalar cada sensor a su rango apropiado\n",
    "\n",
    "# Rangos para cada sensor: [min_temp, min_hum, min_ph, min_luz]\n",
    "valores_minimos = np.array([15, 30, 6.0, 0])\n",
    "rangos = np.array([15, 50, 2.0, 50000])  # [rango_temp, rango_hum, rango_ph, rango_luz]\n",
    "\n",
    "# TODO: Aplicar la transformación: datos_escalados = datos * rangos + valores_minimos\n",
    "datos_escalados = # Tu código aquí\n",
    "\n",
    "print(\"Valores mínimos y máximos por sensor:\")\n",
    "sensores = ['Temperatura (°C)', 'Humedad (%)', 'pH', 'Luz (lux)']\n",
    "for i, sensor in enumerate(sensores):\n",
    "    print(f\"{sensor}: {datos_escalados[:,:,i].min():.2f} - {datos_escalados[:,:,i].max():.2f}\")"
   ]
  },
  {
   "cell_type": "markdown",
   "metadata": {},
   "source": [
    "## 📊 Paso 3: Análisis Estadístico Básico\n",
    "\n",
    "Calcula estadísticas descriptivas para entender mejor los datos recopilados."
   ]
  },
  {
   "cell_type": "code",
   "execution_count": null,
   "metadata": {},
   "outputs": [],
   "source": [
    "# TODO: Calcula la media de cada sensor para todas las parcelas y horas\n",
    "media_sensores = # Tu código aquí\n",
    "\n",
    "# TODO: Calcula la desviación estándar de cada sensor\n",
    "std_sensores = # Tu código aquí\n",
    "\n",
    "print(\"📈 Estadísticas Generales por Sensor:\")\n",
    "print(\"-\" * 50)\n",
    "for i, sensor in enumerate(sensores):\n",
    "    print(f\"{sensor}:\")\n",
    "    print(f\"  Media: {media_sensores[i]:.2f}\")\n",
    "    print(f\"  Desv. Estándar: {std_sensores[i]:.2f}\")\n",
    "    print()"
   ]
  },
  {
   "cell_type": "markdown",
   "metadata": {},
   "source": [
    "## 🌡️ Paso 4: Análisis Temporal - Variaciones por Hora\n",
    "\n",
    "Analiza cómo varían las condiciones a lo largo del día."
   ]
  },
  {
   "cell_type": "code",
   "execution_count": null,
   "metadata": {},
   "outputs": [],
   "source": [
    "# TODO: Calcula la media de cada sensor para cada hora del día (promedio de todas las parcelas)\n",
    "# Pista: usa axis=0 para promediar sobre las parcelas\n",
    "variacion_horaria = # Tu código aquí\n",
    "\n",
    "print(f\"Forma del array de variación horaria: {variacion_horaria.shape}\")\n",
    "\n",
    "# TODO: Encuentra la hora con mayor temperatura promedio\n",
    "hora_max_temp = # Tu código aquí\n",
    "\n",
    "# TODO: Encuentra la hora con mayor intensidad de luz\n",
    "hora_max_luz = # Tu código aquí\n",
    "\n",
    "print(f\"\\n🕐 Hora con mayor temperatura: {hora_max_temp}:00 hrs\")\n",
    "print(f\"☀️ Hora con mayor intensidad de luz: {hora_max_luz}:00 hrs\")"
   ]
  },
  {
   "cell_type": "markdown",
   "metadata": {},
   "source": [
    "## 🌾 Paso 5: Análisis por Parcela\n",
    "\n",
    "Identifica qué parcelas tienen las mejores y peores condiciones promedio."
   ]
  },
  {
   "cell_type": "code",
   "execution_count": null,
   "metadata": {},
   "outputs": [],
   "source": [
    "# TODO: Calcula la media de cada sensor para cada parcela (promedio de todas las horas)\n",
    "condiciones_parcela = # Tu código aquí\n",
    "\n",
    "print(\"🏞️ Condiciones promedio por parcela:\")\n",
    "print(\"-\" * 60)\n",
    "for parcela in range(5):\n",
    "    print(f\"Parcela {parcela + 1}:\")\n",
    "    for i, sensor in enumerate(sensores):\n",
    "        print(f\"  {sensor}: {condiciones_parcela[parcela, i]:.2f}\")\n",
    "    print()"
   ]
  },
  {
   "cell_type": "code",
   "execution_count": null,
   "metadata": {},
   "outputs": [],
   "source": [
    "# TODO: Encuentra la parcela con la temperatura promedio más alta\n",
    "parcela_temp_max = # Tu código aquí\n",
    "\n",
    "# TODO: Encuentra la parcela con la humedad promedio más baja\n",
    "parcela_hum_min = # Tu código aquí\n",
    "\n",
    "print(f\"🌡️ Parcela más caliente: Parcela {parcela_temp_max + 1}\")\n",
    "print(f\"💧 Parcela más seca: Parcela {parcela_hum_min + 1}\")"
   ]
  },
  {
   "cell_type": "markdown",
   "metadata": {},
   "source": [
    "## ⚠️ Paso 6: Detección de Condiciones Anómalas\n",
    "\n",
    "Identifica lecturas que están fuera del rango óptimo para el crecimiento de cultivos."
   ]
  },
  {
   "cell_type": "code",
   "execution_count": null,
   "metadata": {},
   "outputs": [],
   "source": [
    "# Definir rangos óptimos para cada sensor\n",
    "rangos_optimos = {\n",
    "    'temp_min': 18, 'temp_max': 25,    # Temperatura\n",
    "    'hum_min': 40, 'hum_max': 70,      # Humedad\n",
    "    'ph_min': 6.5, 'ph_max': 7.5,     # pH\n",
    "    'luz_min': 20000, 'luz_max': 45000 # Luz\n",
    "}\n",
    "\n",
    "# TODO: Crear máscaras booleanas para identificar valores fuera del rango óptimo\n",
    "\n",
    "# Temperatura fuera de rango\n",
    "temp_anomala = # Tu código aquí\n",
    "\n",
    "# Humedad fuera de rango\n",
    "humedad_anomala = # Tu código aquí\n",
    "\n",
    "# pH fuera de rango\n",
    "ph_anomalo = # Tu código aquí\n",
    "\n",
    "# Luz fuera de rango\n",
    "luz_anomala = # Tu código aquí\n",
    "\n",
    "print(\"⚠️ Detección de Anomalías:\")\n",
    "print(f\"Lecturas de temperatura anómalas: {np.sum(temp_anomala)}\")\n",
    "print(f\"Lecturas de humedad anómalas: {np.sum(humedad_anomala)}\")\n",
    "print(f\"Lecturas de pH anómalas: {np.sum(ph_anomalo)}\")\n",
    "print(f\"Lecturas de luz anómalas: {np.sum(luz_anomala)}\")"
   ]
  },
  {
   "cell_type": "markdown",
   "metadata": {},
   "source": [
    "## 🔍 Paso 7: Índice de Calidad del Cultivo\n",
    "\n",
    "Crea un índice compuesto que combine todos los sensores para evaluar la \"calidad\" general de las condiciones de cultivo."
   ]
  },
  {
   "cell_type": "code",
   "execution_count": null,
   "metadata": {},
   "outputs": [],
   "source": [
    "# TODO: Normalizar cada sensor a una escala de 0-1 donde 1 es óptimo\n",
    "# Vamos a usar una función que da 1 en el centro del rango óptimo y decrece hacia los bordes\n",
    "\n",
    "def calcular_puntuacion_sensor(valores, min_opt, max_opt):\n",
    "    \"\"\"\n",
    "    Calcula una puntuación de 0-1 basada en qué tan cerca están los valores del rango óptimo.\n",
    "    1.0 = en el rango óptimo, 0.0 = muy lejos del rango óptimo\n",
    "    \"\"\"\n",
    "    centro_optimo = (min_opt + max_opt) / 2\n",
    "    rango_optimo = max_opt - min_opt\n",
    "    \n",
    "    # TODO: Calcula la distancia de cada valor al centro del rango óptimo\n",
    "    distancia_centro = # Tu código aquí\n",
    "    \n",
    "    # TODO: Convierte la distancia en una puntuación (1 - distancia_normalizada)\n",
    "    # Usa np.clip para mantener valores entre 0 y 1\n",
    "    puntuacion = # Tu código aquí\n",
    "    \n",
    "    return puntuacion\n",
    "\n",
    "# Calcular puntuaciones para cada sensor\n",
    "punt_temp = calcular_puntuacion_sensor(datos_escalados[:,:,0], 18, 25)\n",
    "punt_hum = calcular_puntuacion_sensor(datos_escalados[:,:,1], 40, 70)\n",
    "punt_ph = calcular_puntuacion_sensor(datos_escalados[:,:,2], 6.5, 7.5)\n",
    "punt_luz = calcular_puntuacion_sensor(datos_escalados[:,:,3], 20000, 45000)\n",
    "\n",
    "print(\"✅ Puntuaciones calculadas para todos los sensores\")"
   ]
  },
  {
   "cell_type": "code",
   "execution_count": null,
   "metadata": {},
   "outputs": [],
   "source": [
    "# TODO: Combinar las puntuaciones en un índice de calidad compuesto\n",
    "# Usa diferentes pesos para cada sensor según su importancia\n",
    "pesos = np.array([0.3, 0.3, 0.2, 0.2])  # [temp, hum, ph, luz]\n",
    "\n",
    "# TODO: Crear un array con las puntuaciones de todos los sensores\n",
    "# Forma: (5, 24, 4)\n",
    "puntuaciones = # Tu código aquí\n",
    "\n",
    "# TODO: Calcular el índice de calidad usando los pesos\n",
    "# Pista: usa np.sum() con axis=2 y multiplica por los pesos\n",
    "indice_calidad = # Tu código aquí\n",
    "\n",
    "print(f\"Forma del índice de calidad: {indice_calidad.shape}\")\n",
    "print(f\"Índice de calidad promedio: {np.mean(indice_calidad):.3f}\")"
   ]
  },
  {
   "cell_type": "markdown",
   "metadata": {},
   "source": [
    "## 🏆 Paso 8: Ranking y Recomendaciones\n",
    "\n",
    "Identifica las mejores parcelas y períodos de tiempo basándote en el índice de calidad."
   ]
  },
  {
   "cell_type": "code",
   "execution_count": null,
   "metadata": {},
   "outputs": [],
   "source": [
    "# TODO: Encuentra la parcela con el mejor índice de calidad promedio\n",
    "calidad_promedio_parcela = # Tu código aquí\n",
    "mejor_parcela = # Tu código aquí\n",
    "\n",
    "# TODO: Encuentra la hora del día con el mejor índice de calidad promedio\n",
    "calidad_promedio_hora = # Tu código aquí\n",
    "mejor_hora = # Tu código aquí\n",
    "\n",
    "# TODO: Encuentra la combinación parcela-hora con el mejor índice\n",
    "mejor_lectura_pos = # Tu código aquí (usa np.unravel_index y np.argmax)\n",
    "mejor_parcela_hora, mejor_hora_momento = mejor_lectura_pos\n",
    "\n",
    "print(\"🏆 RESULTADOS DEL ANÁLISIS:\")\n",
    "print(\"=\" * 50)\n",
    "print(f\"🥇 Mejor parcela promedio: Parcela {mejor_parcela + 1} (Calidad: {calidad_promedio_parcela[mejor_parcela]:.3f})\")\n",
    "print(f\"🕐 Mejor hora promedio: {mejor_hora}:00 hrs (Calidad: {calidad_promedio_hora[mejor_hora]:.3f})\")\n",
    "print(f\"⭐ Mejor momento específico: Parcela {mejor_parcela_hora + 1} a las {mejor_hora_momento}:00 hrs\")\n",
    "print(f\"   Calidad: {indice_calidad[mejor_parcela_hora, mejor_hora_momento]:.3f}\")"
   ]
  },
  {
   "cell_type": "markdown",
   "metadata": {},
   "source": [
    "## 📋 Paso 9: Reporte de Condiciones Críticas\n",
    "\n",
    "Genera un reporte de las parcelas que necesitan atención inmediata."
   ]
  },
  {
   "cell_type": "code",
   "execution_count": null,
   "metadata": {},
   "outputs": [],
   "source": [
    "# TODO: Identifica parcelas con índice de calidad promedio menor a 0.6\n",
    "umbral_critico = 0.6\n",
    "parcelas_criticas = # Tu código aquí\n",
    "\n",
    "print(\"🚨 REPORTE DE CONDICIONES CRÍTICAS:\")\n",
    "print(\"=\" * 45)\n",
    "\n",
    "if len(parcelas_criticas) > 0:\n",
    "    for parcela_idx in parcelas_criticas:\n",
    "        print(f\"\\n🔴 PARCELA {parcela_idx + 1} - REQUIERE ATENCIÓN\")\n",
    "        print(f\"   Índice de calidad: {calidad_promedio_parcela[parcela_idx]:.3f}\")\n",
    "        \n",
    "        # TODO: Muestra las condiciones promedio de la parcela crítica\n",
    "        condiciones = condiciones_parcela[parcela_idx]\n",
    "        print(\"   Condiciones promedio:\")\n",
    "        for i, sensor in enumerate(sensores):\n",
    "            valor = condiciones[i]\n",
    "            print(f\"     {sensor}: {valor:.2f}\")\n",
    "        \n",
    "        # TODO: Cuenta cuántas lecturas anómalas tiene esta parcela\n",
    "        anomalias_temp = np.sum(temp_anomala[parcela_idx])\n",
    "        anomalias_hum = np.sum(humedad_anomala[parcela_idx])\n",
    "        anomalias_ph = np.sum(ph_anomalo[parcela_idx])\n",
    "        anomalias_luz = np.sum(luz_anomala[parcela_idx])\n",
    "        \n",
    "        print(f\"   Lecturas anómalas: Temp={anomalias_temp}, Hum={anomalias_hum}, pH={anomalias_ph}, Luz={anomalias_luz}\")\n",
    "else:\n",
    "    print(\"✅ Todas las parcelas están en condiciones aceptables\")"
   ]
  },
  {
   "cell_type": "markdown",
   "metadata": {},
   "source": [
    "## 🎯 Paso 10: Desafío Final - Predicción Simple\n",
    "\n",
    "Como ejercicio final, implementa una predicción simple de la próxima lectura usando el promedio de las últimas 3 horas."
   ]
  },
  {
   "cell_type": "code",
   "execution_count": null,
   "metadata": {},
   "outputs": [],
   "source": [
    "# TODO: Para cada parcela y sensor, calcula la predicción de la \"próxima hora\" (hora 25)\n",
    "# usando el promedio de las últimas 3 horas (horas 21, 22, 23)\n",
    "\n",
    "# Seleccionar las últimas 3 horas de datos\n",
    "ultimas_horas = # Tu código aquí (slicing)\n",
    "\n",
    "# Calcular el promedio de las últimas 3 horas para cada parcela y sensor\n",
    "prediccion_proxima_hora = # Tu código aquí\n",
    "\n",
    "print(\"🔮 PREDICCIONES PARA LA PRÓXIMA HORA:\")\n",
    "print(\"=\" * 40)\n",
    "\n",
    "for parcela in range(5):\n",
    "    print(f\"\\n📍 Parcela {parcela + 1}:\")\n",
    "    for i, sensor in enumerate(sensores):\n",
    "        valor_actual = datos_escalados[parcela, -1, i]  # Última lectura\n",
    "        prediccion = prediccion_proxima_hora[parcela, i]\n",
    "        cambio = prediccion - valor_actual\n",
    "        \n",
    "        simbolo = \"📈\" if cambio > 0 else \"📉\" if cambio < 0 else \"➡️\"\n",
    "        print(f\"  {sensor}: {prediccion:.2f} {simbolo} (cambio: {cambio:+.2f})\")"
   ]
  },
  {
   "cell_type": "markdown",
   "metadata": {},
   "source": [
    "## 🎉 ¡Felicitaciones!\n",
    "\n",
    "Has completado exitosamente el ejercicio de análisis de datos de sensores IoT para agricultura inteligente usando NumPy.\n",
    "\n",
    "### 📚 Conceptos que has practicado:\n",
    "\n",
    "✅ **Arrays multidimensionales**: Creación y manipulación de arrays 3D  \n",
    "✅ **Broadcasting**: Escalado de datos usando operaciones vectorizadas  \n",
    "✅ **Indexación y slicing**: Selección de datos específicos  \n",
    "✅ **Agregaciones**: Cálculo de medias, máximos, mínimos  \n",
    "✅ **Máscaras booleanas**: Filtrado condicional de datos  \n",
    "✅ **Operaciones estadísticas**: Análisis de tendencias y anomalías  \n",
    "✅ **Aplicaciones prácticas**: Solución de problemas del mundo real  \n",
    "\n",
    "### 🚀 Próximos pasos:\n",
    "\n",
    "- Experimenta modificando los rangos óptimos y observa cómo cambian los resultados\n",
    "- Agrega más sensores (viento, presión atmosférica, etc.)\n",
    "- Implementa visualizaciones usando Matplotlib\n",
    "- Explora técnicas más avanzadas de detección de anomalías\n",
    "\n",
    "---\n",
    "*¡Excelente trabajo dominando NumPy con un caso de uso real! 🌱*"
   ]
  }
 ],
 "metadata": {
  "kernelspec": {
   "display_name": "Python 3",
   "language": "python",
   "name": "python3"
  },
  "language_info": {
   "codemirror_mode": {
    "name": "ipython",
    "version": 3
   },
   "file_extension": ".py",
   "mimetype": "text/x-python",
   "name": "python",
   "nbconvert_exporter": "python",
   "pandas_version": "3.8.0",
   "pygments_lexer": "ipython3",
   "version": "3.8.0"
  }
 },
 "nbformat": 4,
 "nbformat_minor": 4
}
