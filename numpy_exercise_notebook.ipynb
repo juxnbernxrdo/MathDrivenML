{
 "cells": [
  {
   "cell_type": "markdown",
   "metadata": {},
   "source": [
    "# 🏪 Ejercicio Práctico: Análisis de Ventas de una Tienda con NumPy\n",
    "\n",
    "## 📋 Contexto del Problema\n",
    "\n",
    "Eres el analista de datos de **TechStore**, una tienda de electrónicos. El gerente necesita un reporte semanal sobre las ventas para tomar decisiones sobre inventario y promociones.\n",
    "\n",
    "Tienes datos de ventas de los últimos 7 días para 5 productos diferentes, y debes usar **NumPy** para analizarlos y generar insights útiles."
   ]
  },
  {
   "cell_type": "markdown",
   "metadata": {},
   "source": [
    "## 🎯 Objetivos de Aprendizaje\n",
    "\n",
    "En este ejercicio practicarás:\n",
    "\n",
    "- ✅ **Crear arrays de NumPy desde listas**\n",
    "- ✅ **Indexación y slicing básico**\n",
    "- ✅ **Operaciones matemáticas simples**\n",
    "- ✅ **Funciones de agregación (sum, mean, max, min)**\n",
    "- ✅ **Operaciones por ejes (filas y columnas)**\n",
    "- ✅ **Indexación booleana básica**\n",
    "- ✅ **Reshape y manipulación de formas**"
   ]
  },
  {
   "cell_type": "markdown",
   "metadata": {},
   "source": [
    "## 📊 Datos de Ventas\n",
    "\n",
    "Ejecuta el siguiente código para cargar los datos de la tienda:"
   ]
  },
  {
   "cell_type": "code",
   "execution_count": null,
   "metadata": {},
   "outputs": [],
   "source": [
    "import numpy as np\n",
    "\n",
    "# Productos de la tienda\n",
    "productos = ['Laptop', 'Mouse', 'Teclado', 'Monitor', 'Audífonos']\n",
    "dias = ['Lunes', 'Martes', 'Miércoles', 'Jueves', 'Viernes', 'Sábado', 'Domingo']\n",
    "\n",
    "# Matriz de ventas: filas = días, columnas = productos\n",
    "# Cada número representa unidades vendidas\n",
    "ventas_semana = np.array([\n",
    "    [2, 15, 8, 3, 12],   # Lunes\n",
    "    [1, 22, 12, 2, 18],  # Martes  \n",
    "    [3, 18, 15, 4, 10],  # Miércoles\n",
    "    [4, 25, 20, 1, 15],  # Jueves\n",
    "    [5, 30, 25, 6, 22],  # Viernes\n",
    "    [8, 35, 18, 7, 28],  # Sábado\n",
    "    [6, 20, 10, 5, 16]   # Domingo\n",
    "])\n",
    "\n",
    "# Precios unitarios de cada producto (en dólares)\n",
    "precios = np.array([800, 25, 50, 300, 75])\n",
    "\n",
    "print(\"📦 Datos de TechStore cargados exitosamente!\")\n",
    "print(f\"Forma de la matriz de ventas: {ventas_semana.shape}\")\n",
    "print(f\"Productos: {productos}\")\n",
    "print(f\"\\nPrimeras 3 filas de ventas:\")\n",
    "print(ventas_semana[:3])"
   ]
  },
  {
   "cell_type": "markdown",
   "metadata": {},
   "source": [
    "## 🛠️ Ejercicios\n",
    "\n",
    "### **Ejercicio 1: Explorando los Datos** 🔍\n",
    "\n",
    "Completa las siguientes tareas básicas:"
   ]
  },
  {
   "cell_type": "code",
   "execution_count": null,
   "metadata": {},
   "outputs": [],
   "source": [
    "# 1.1 ¿Cuántas laptops se vendieron el viernes?\n",
    "laptops_viernes = # TU CÓDIGO AQUÍ\n",
    "print(f\"Laptops vendidas el viernes: {laptops_viernes}\")\n",
    "\n",
    "# 1.2 ¿Cuáles fueron las ventas del miércoles para todos los productos?\n",
    "ventas_miercoles = # TU CÓDIGO AQUÍ\n",
    "print(f\"Ventas del miércoles: {ventas_miercoles}\")\n",
    "\n",
    "# 1.3 ¿Cuáles fueron las ventas de audífonos durante toda la semana?\n",
    "audifonos_semana = # TU CÓDIGO AQUÍ\n",
    "print(f\"Audífonos vendidos cada día: {audifonos_semana}\")"
   ]
  },
  {
   "cell_type": "markdown",
   "metadata": {},
   "source": [
    "**Pistas para Ejercicio 1:**\n",
    "- Recuerda que las filas son días y las columnas son productos\n",
    "- Viernes es el índice 4, Laptop es el índice 0\n",
    "- Miércoles es el índice 2\n",
    "- Audífonos es el índice 4 (última columna)"
   ]
  },
  {
   "cell_type": "markdown",
   "metadata": {},
   "source": [
    "### **Ejercicio 2: Estadísticas Básicas** 📊\n",
    "\n",
    "Calcula estadísticas simples usando funciones de NumPy:"
   ]
  },
  {
   "cell_type": "code",
   "execution_count": null,
   "metadata": {},
   "outputs": [],
   "source": [
    "# 2.1 Total de productos vendidos en toda la semana\n",
    "total_vendido = # TU CÓDIGO AQUÍ\n",
    "print(f\"Total de productos vendidos: {total_vendido}\")\n",
    "\n",
    "# 2.2 Promedio de ventas diarias (por cada día)\n",
    "promedio_por_dia = # TU CÓDIGO AQUÍ\n",
    "print(f\"Promedio de ventas por día: {promedio_por_dia}\")\n",
    "\n",
    "# 2.3 Total vendido por cada producto durante la semana\n",
    "total_por_producto = # TU CÓDIGO AQUÍ\n",
    "print(f\"Total por producto: {total_por_producto}\")\n",
    "\n",
    "# 2.4 ¿Cuál fue el día con más ventas totales?\n",
    "ventas_por_dia = # TU CÓDIGO AQUÍ\n",
    "dia_mayor_venta = # TU CÓDIGO AQUÍ\n",
    "print(f\"Día con más ventas: {dias[dia_mayor_venta]} ({ventas_por_dia[dia_mayor_venta]} productos)\")"
   ]
  },
  {
   "cell_type": "markdown",
   "metadata": {},
   "source": [
    "**Pistas para Ejercicio 2:**\n",
    "- `np.sum()` suma todos los elementos\n",
    "- `np.sum(axis=1)` suma por filas (cada día)\n",
    "- `np.sum(axis=0)` suma por columnas (cada producto)\n",
    "- `np.mean(axis=1)` calcula promedio por filas\n",
    "- `np.argmax()` encuentra el índice del valor máximo"
   ]
  },
  {
   "cell_type": "markdown",
   "metadata": {},
   "source": [
    "### **Ejercicio 3: Calculando Ingresos** 💰\n",
    "\n",
    "Ahora vamos a calcular los ingresos multiplicando ventas por precios:"
   ]
  },
  {
   "cell_type": "code",
   "execution_count": null,
   "metadata": {},
   "outputs": [],
   "source": [
    "# 3.1 Calcular ingresos por día y producto (matriz de ingresos)\n",
    "# Pista: multiplica cada venta por su precio correspondiente\n",
    "ingresos_matriz = # TU CÓDIGO AQUÍ\n",
    "\n",
    "print(\"Matriz de ingresos (primera fila = lunes):\")\n",
    "print(ingresos_matriz[0])  # Solo mostramos el lunes\n",
    "\n",
    "# 3.2 Ingresos totales de la semana\n",
    "ingresos_totales = # TU CÓDIGO AQUÍ\n",
    "print(f\"\\nIngresos totales de la semana: ${ingresos_totales:,.2f}\")\n",
    "\n",
    "# 3.3 ¿Qué producto generó más ingresos durante la semana?\n",
    "ingresos_por_producto = # TU CÓDIGO AQUÍ\n",
    "producto_mas_rentable = # TU CÓDIGO AQUÍ\n",
    "print(f\"Producto más rentable: {productos[producto_mas_rentable]}\")\n",
    "print(f\"Ingresos: ${ingresos_por_producto[producto_mas_rentable]:,.2f}\")\n",
    "\n",
    "# 3.4 ¿Qué día generó más ingresos?\n",
    "ingresos_por_dia = # TU CÓDIGO AQUÍ\n",
    "dia_mas_rentable = # TU CÓDIGO AQUÍ\n",
    "print(f\"Día más rentable: {dias[dia_mas_rentable]}\")\n",
    "print(f\"Ingresos: ${ingresos_por_dia[dia_mas_rentable]:,.2f}\")"
   ]
  },
  {
   "cell_type": "markdown",
   "metadata": {},
   "source": [
    "**Pistas para Ejercicio 3:**\n",
    "- Para multiplicar cada fila por los precios, usa broadcasting: `ventas_semana * precios`\n",
    "- NumPy automáticamente multiplica cada fila por el vector de precios\n",
    "- Luego usa `np.sum()` con diferentes ejes para agregar los resultados"
   ]
  },
  {
   "cell_type": "markdown",
   "metadata": {},
   "source": [
    "### **Ejercicio 4: Filtros y Condiciones** 🎯\n",
    "\n",
    "Usa indexación booleana para encontrar patrones en los datos:"
   ]
  },
  {
   "cell_type": "code",
   "execution_count": null,
   "metadata": {},
   "outputs": [],
   "source": [
    "# 4.1 ¿En qué días se vendieron más de 5 laptops?\n",
    "dias_muchas_laptops = # TU CÓDIGO AQUÍ (usar indexación booleana)\n",
    "print(f\"Días con >5 laptops vendidas: {[dias[i] for i in range(7) if dias_muchas_laptops[i]]}\")\n",
    "\n",
    "# 4.2 ¿Cuántos productos se vendieron en días \"buenos\" (>80 productos total)?\n",
    "ventas_diarias = np.sum(ventas_semana, axis=1)\n",
    "dias_buenos = # TU CÓDIGO AQUÍ\n",
    "productos_dias_buenos = # TU CÓDIGO AQUÍ\n",
    "print(f\"Productos vendidos en días buenos: {productos_dias_buenos}\")\n",
    "print(f\"Total: {np.sum(productos_dias_buenos)}\")\n",
    "\n",
    "# 4.3 Encuentra todos los casos donde se vendieron exactamente 0 productos\n",
    "# (debería ser ninguno en nuestros datos, pero es buena práctica)\n",
    "ventas_cero = # TU CÓDIGO AQUÍ\n",
    "print(f\"¿Hay ventas en cero?: {np.any(ventas_cero)}\")"
   ]
  },
  {
   "cell_type": "markdown",
   "metadata": {},
   "source": [
    "**Pistas para Ejercicio 4:**\n",
    "- `ventas_semana[:, 0] > 5` crea una máscara booleana para laptops\n",
    "- `ventas_diarias > 80` crea máscara para días buenos\n",
    "- `ventas_diarias[dias_buenos]` filtra usando la máscara\n",
    "- `ventas_semana == 0` encuentra todos los ceros"
   ]
  },
  {
   "cell_type": "markdown",
   "metadata": {},
   "source": [
    "### **Ejercicio 5: Manipulación de Formas** 🔄\n",
    "\n",
    "Practica reshape y otras transformaciones:"
   ]
  },
  {
   "cell_type": "code",
   "execution_count": null,
   "metadata": {},
   "outputs": [],
   "source": [
    "# 5.1 Convierte la matriz de ventas en un vector de 35 elementos\n",
    "ventas_vector = # TU CÓDIGO AQUÍ\n",
    "print(f\"Forma original: {ventas_semana.shape}\")\n",
    "print(f\"Forma como vector: {ventas_vector.shape}\")\n",
    "print(f\"Primeros 10 elementos: {ventas_vector[:10]}\")\n",
    "\n",
    "# 5.2 Reorganiza el vector en una matriz de 5x7 (productos x días)\n",
    "ventas_productos_dias = # TU CÓDIGO AQUÍ\n",
    "print(f\"\\nForma 5x7 (productos x días): {ventas_productos_dias.shape}\")\n",
    "print(f\"Ventas de Laptop por día: {ventas_productos_dias[0]}\")\n",
    "\n",
    "# 5.3 Transpón la matriz original (intercambia filas y columnas)\n",
    "ventas_transpuesta = # TU CÓDIGO AQUÍ\n",
    "print(f\"\\nForma transpuesta: {ventas_transpuesta.shape}\")\n",
    "print(f\"Ahora las filas son productos y las columnas son días\")"
   ]
  },
  {
   "cell_type": "markdown",
   "metadata": {},
   "source": [
    "**Pistas para Ejercicio 5:**\n",
    "- `reshape()` cambia la forma pero mantiene el número total de elementos\n",
    "- `flatten()` convierte a vector de 1D\n",
    "- `reshape(5, 7)` crea matriz de 5 filas y 7 columnas\n",
    "- `.T` o `np.transpose()` intercambia ejes"
   ]
  },
  {
   "cell_type": "markdown",
   "metadata": {},
   "source": [
    "## 🎯 Desafío Final: Reporte Completo\n",
    "\n",
    "Combina todo lo aprendido para generar un reporte ejecutivo:"
   ]
  },
  {
   "cell_type": "code",
   "execution_count": null,
   "metadata": {},
   "outputs": [],
   "source": [
    "def generar_reporte_semanal(ventas, productos, dias, precios):\n",
    "    \"\"\"\n",
    "    Genera un reporte completo de ventas de la semana.\n",
    "    Usa las funciones de NumPy que aprendiste.\n",
    "    \"\"\"\n",
    "    print(\"📊 REPORTE SEMANAL - TECHSTORE\")\n",
    "    print(\"=\" * 40)\n",
    "    \n",
    "    # Calcula las métricas principales\n",
    "    total_productos = # TU CÓDIGO AQUÍ\n",
    "    ingresos_totales = # TU CÓDIGO AQUÍ\n",
    "    \n",
    "    # Encuentra el mejor día y producto\n",
    "    ventas_por_dia = # TU CÓDIGO AQUÍ\n",
    "    mejor_dia_idx = # TU CÓDIGO AQUÍ\n",
    "    \n",
    "    ingresos_por_producto = # TU CÓDIGO AQUÍ\n",
    "    mejor_producto_idx = # TU CÓDIGO AQUÍ\n",
    "    \n",
    "    # Imprime el reporte\n",
    "    print(f\"📦 Total productos vendidos: {total_productos}\")\n",
    "    print(f\"💰 Ingresos totales: ${ingresos_totales:,.2f}\")\n",
    "    print(f\"📅 Mejor día: {dias[mejor_dia_idx]} ({ventas_por_dia[mejor_dia_idx]} productos)\")\n",
    "    print(f\"🏆 Producto estrella: {productos[mejor_producto_idx]}\")\n",
    "    print(f\"💵 Ingresos del producto estrella: ${ingresos_por_producto[mejor_producto_idx]:,.2f}\")\n",
    "    \n",
    "    # Calcula promedio diario\n",
    "    promedio_diario = # TU CÓDIGO AQUÍ\n",
    "    print(f\"📊 Promedio de productos por día: {promedio_diario:.1f}\")\n",
    "    \n",
    "    print(\"\\n💡 Recomendaciones:\")\n",
    "    if mejor_producto_idx == 0:  # Si es laptop\n",
    "        print(\"- Mantener stock alto de laptops\")\n",
    "    else:\n",
    "        print(\"- Considerar promociones en laptops\")\n",
    "        \n",
    "    if np.argmin(ventas_por_dia) in [5, 6]:  # Sábado o domingo\n",
    "        print(\"- Implementar promociones de fin de semana\")\n",
    "\n",
    "# Generar el reporte\n",
    "generar_reporte_semanal(ventas_semana, productos, dias, precios)"
   ]
  },
  {
   "cell_type": "markdown",
   "metadata": {},
   "source": [
    "## ✅ ¿Completaste el Ejercicio?\n",
    "\n",
    "¡Excelente! Has practicado los conceptos fundamentales de NumPy:\n",
    "\n",
    "- ✅ **Arrays y indexación**: Acceder a datos específicos\n",
    "- ✅ **Operaciones matemáticas**: Multiplicaciones y sumas\n",
    "- ✅ **Agregaciones**: sum, mean, max, argmax\n",
    "- ✅ **Ejes**: Operaciones por filas y columnas\n",
    "- ✅ **Broadcasting**: Multiplicación automática de arrays\n",
    "- ✅ **Indexación booleana**: Filtrar datos con condiciones\n",
    "- ✅ **Reshape**: Cambiar formas de arrays\n",
    "\n",
    "### 🎯 Próximos Pasos\n",
    "\n",
    "Si quieres continuar practicando:\n",
    "\n",
    "1. **Modifica los datos**: Cambia los números de ventas y observa cómo cambian los resultados\n",
    "2. **Agrega más productos**: Expande la matriz con más columnas\n",
    "3. **Incluye más semanas**: Crea un array 3D (semanas x días x productos)\n",
    "4. **Experimenta con funciones**: Prueba `np.std()`, `np.median()`, `np.percentile()`\n",
    "\n",
    "**¡Bien hecho! 🎉**"
   ]
  }
 ],
 "metadata": {
  "kernelspec": {
   "display_name": "Python 3",
   "language": "python",
   "name": "python3"
  },
  "language_info": {
   "codemirror_mode": {
    "name": "ipython",
    "version": 3
   },
   "file_extension": ".py",
   "mimetype": "text/x-python",
   "name": "python",
   "nbconvert_exporter": "python",
   "pygments_lexer": "ipython3",
   "version": "3.8.5"
  }
 },
 "nbformat": 4,
 "nbformat_minor": 4
}